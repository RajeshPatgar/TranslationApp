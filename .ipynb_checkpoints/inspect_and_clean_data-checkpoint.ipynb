{
 "cells": [
  {
   "cell_type": "code",
   "execution_count": null,
   "id": "09c728b6-f0f9-4c63-9941-649084a86878",
   "metadata": {},
   "outputs": [],
   "source": [
    "import pandas as pd\n",
    "\n",
    "# Load the Excel file\n",
    "df = pd.read_excel('data/translations.xlsx')\n",
    "\n",
    "# Print the column names to check for any discrepancies\n",
    "print(\"Column names:\", df.columns.tolist())\n",
    "\n",
    "# Print the first few rows of the DataFrame to inspect the content\n",
    "print(df.head())\n",
    "\n",
    "# Clean up spaces in column names\n",
    "df.columns = df.columns.str.strip()  # Remove leading/trailing spaces\n",
    "\n",
    "# Print cleaned column names to verify\n",
    "print(\"Cleaned Column names:\", df.columns.tolist())\n",
    "\n",
    "# (Optional) Save the cleaned DataFrame to a new Excel file\n",
    "df.to_excel('data/cleaned_translations.xlsx', index=False)\n"
   ]
  },
  {
   "cell_type": "code",
   "execution_count": null,
   "id": "1356a324-3eb2-4c8d-91b5-3a7febf6e894",
   "metadata": {},
   "outputs": [],
   "source": []
  }
 ],
 "metadata": {
  "kernelspec": {
   "display_name": "Python 3 (ipykernel)",
   "language": "python",
   "name": "python3"
  },
  "language_info": {
   "codemirror_mode": {
    "name": "ipython",
    "version": 3
   },
   "file_extension": ".py",
   "mimetype": "text/x-python",
   "name": "python",
   "nbconvert_exporter": "python",
   "pygments_lexer": "ipython3",
   "version": "3.10.5"
  }
 },
 "nbformat": 4,
 "nbformat_minor": 5
}
