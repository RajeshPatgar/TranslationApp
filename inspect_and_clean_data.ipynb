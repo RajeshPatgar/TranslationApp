{
 "cells": [
  {
   "cell_type": "code",
   "execution_count": 2,
   "id": "09c728b6-f0f9-4c63-9941-649084a86878",
   "metadata": {},
   "outputs": [
    {
     "name": "stdout",
     "output_type": "stream",
     "text": [
      "Column names: ['Unnamed: 0', 'Unnamed: 1', 'Unnamed: 2']\n",
      "  Unnamed: 0 Unnamed: 1 Unnamed: 2\n",
      "0    SL. No.    English       Tulu\n",
      "1          1  Afternoon  madhyaana\n",
      "2          2       back       beri\n",
      "3          3        bag     cheela\n",
      "4          4      bathe      meela\n"
     ]
    }
   ],
   "source": [
    "import pandas as pd\n",
    "\n",
    "# Load the Excel file, skipping the first row and using the second row as the header\n",
    "df = pd.read_excel('data/translations.xlsx', header=1)\n",
    "\n",
    "# Print the column names to ensure they are correct\n",
    "print(\"Column names:\", df.columns.tolist())\n",
    "\n",
    "# Print the first few rows of the DataFrame to inspect the content\n",
    "print(df.head())\n",
    "\n",
    "# (Optional) Save the cleaned DataFrame to a new Excel file if needed\n",
    "df.to_excel('data/cleaned_translations.xlsx', index=False)\n"
   ]
  },
  {
   "cell_type": "code",
   "execution_count": null,
   "id": "1356a324-3eb2-4c8d-91b5-3a7febf6e894",
   "metadata": {},
   "outputs": [],
   "source": []
  }
 ],
 "metadata": {
  "kernelspec": {
   "display_name": "Python 3",
   "language": "python",
   "name": "python3"
  },
  "language_info": {
   "codemirror_mode": {
    "name": "ipython",
    "version": 3
   },
   "file_extension": ".py",
   "mimetype": "text/x-python",
   "name": "python",
   "nbconvert_exporter": "python",
   "pygments_lexer": "ipython3",
   "version": "3.10.5"
  }
 },
 "nbformat": 4,
 "nbformat_minor": 5
}
